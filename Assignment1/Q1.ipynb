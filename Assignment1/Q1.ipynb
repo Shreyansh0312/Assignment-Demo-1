{
 "cells": [
  {
   "cell_type": "code",
   "execution_count": 1,
   "id": "e8f82637",
   "metadata": {},
   "outputs": [],
   "source": [
    "x=2"
   ]
  },
  {
   "cell_type": "code",
   "execution_count": 2,
   "id": "8e0ff189",
   "metadata": {},
   "outputs": [],
   "source": [
    "y=5"
   ]
  },
  {
   "cell_type": "code",
   "execution_count": 3,
   "id": "eefc06b4",
   "metadata": {},
   "outputs": [],
   "source": [
    "z=x+y"
   ]
  },
  {
   "cell_type": "code",
   "execution_count": 4,
   "id": "a080f08c",
   "metadata": {},
   "outputs": [
    {
     "name": "stdout",
     "output_type": "stream",
     "text": [
      "7\n"
     ]
    }
   ],
   "source": [
    "print(z)"
   ]
  },
  {
   "cell_type": "code",
   "execution_count": 5,
   "id": "b24200d8",
   "metadata": {},
   "outputs": [],
   "source": [
    "xy='hey'"
   ]
  },
  {
   "cell_type": "code",
   "execution_count": 6,
   "id": "4fef37f5",
   "metadata": {},
   "outputs": [
    {
     "name": "stdout",
     "output_type": "stream",
     "text": [
      "7 hey\n"
     ]
    }
   ],
   "source": [
    "print(z,xy)"
   ]
  },
  {
   "cell_type": "code",
   "execution_count": 7,
   "id": "faae88d5",
   "metadata": {},
   "outputs": [
    {
     "name": "stdout",
     "output_type": "stream",
     "text": [
      "7 hey\n"
     ]
    }
   ],
   "source": [
    "print(x+y,xy)"
   ]
  },
  {
   "cell_type": "code",
   "execution_count": null,
   "id": "8aac70b7",
   "metadata": {},
   "outputs": [],
   "source": []
  }
 ],
 "metadata": {
  "kernelspec": {
   "display_name": "Python 3",
   "language": "python",
   "name": "python3"
  },
  "language_info": {
   "codemirror_mode": {
    "name": "ipython",
    "version": 3
   },
   "file_extension": ".py",
   "mimetype": "text/x-python",
   "name": "python",
   "nbconvert_exporter": "python",
   "pygments_lexer": "ipython3",
   "version": "3.8.8"
  }
 },
 "nbformat": 4,
 "nbformat_minor": 5
}
