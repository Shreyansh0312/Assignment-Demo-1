{
 "cells": [
  {
   "cell_type": "code",
   "execution_count": 1,
   "id": "dce31f3b",
   "metadata": {},
   "outputs": [],
   "source": [
    "string1='world'"
   ]
  },
  {
   "cell_type": "code",
   "execution_count": 2,
   "id": "bc621964",
   "metadata": {},
   "outputs": [
    {
     "name": "stdout",
     "output_type": "stream",
     "text": [
      "hello world\n"
     ]
    }
   ],
   "source": [
    "print('hello',string1)"
   ]
  },
  {
   "cell_type": "code",
   "execution_count": 3,
   "id": "8a1751f5",
   "metadata": {},
   "outputs": [],
   "source": [
    "string2='!'"
   ]
  },
  {
   "cell_type": "code",
   "execution_count": 4,
   "id": "1415327c",
   "metadata": {},
   "outputs": [
    {
     "name": "stdout",
     "output_type": "stream",
     "text": [
      "hello world !\n"
     ]
    }
   ],
   "source": [
    "print('hello',string1,string2)"
   ]
  },
  {
   "cell_type": "code",
   "execution_count": 5,
   "id": "42e57677",
   "metadata": {},
   "outputs": [
    {
     "name": "stdout",
     "output_type": "stream",
     "text": [
      "helloworld!\n"
     ]
    }
   ],
   "source": [
    "print('hello'+string1+string2)"
   ]
  },
  {
   "cell_type": "code",
   "execution_count": 7,
   "id": "f6211e07",
   "metadata": {},
   "outputs": [
    {
     "name": "stdout",
     "output_type": "stream",
     "text": [
      "jan\n",
      "feb\n",
      "mar\n",
      "apr\n",
      "may\n",
      "june\n",
      "july\n",
      "aug\n"
     ]
    }
   ],
   "source": [
    "print(\"jan\\nfeb\\nmar\\napr\\nmay\\njune\\njuly\\naug\")"
   ]
  },
  {
   "cell_type": "code",
   "execution_count": 8,
   "id": "98b13164",
   "metadata": {},
   "outputs": [
    {
     "name": "stdout",
     "output_type": "stream",
     "text": [
      "jan\n",
      "feb\n",
      "mar\n",
      "apr\n",
      "may\n",
      "june\n",
      "july\n",
      "aug\n"
     ]
    }
   ],
   "source": [
    "print('jan\\nfeb\\nmar\\napr\\nmay\\njune\\njuly\\naug')"
   ]
  },
  {
   "cell_type": "code",
   "execution_count": 9,
   "id": "8f8adca1",
   "metadata": {},
   "outputs": [
    {
     "name": "stdout",
     "output_type": "stream",
     "text": [
      "i want \\nto be printed\n"
     ]
    }
   ],
   "source": [
    "print(\"i want \\\\nto be printed\")"
   ]
  },
  {
   "cell_type": "code",
   "execution_count": 10,
   "id": "645dbde1",
   "metadata": {},
   "outputs": [],
   "source": [
    "x=10"
   ]
  },
  {
   "cell_type": "code",
   "execution_count": 11,
   "id": "77ea6f64",
   "metadata": {},
   "outputs": [
    {
     "name": "stdout",
     "output_type": "stream",
     "text": [
      "<class 'int'>\n"
     ]
    }
   ],
   "source": [
    "print(type(x))"
   ]
  },
  {
   "cell_type": "code",
   "execution_count": 12,
   "id": "d20a8b8f",
   "metadata": {},
   "outputs": [
    {
     "data": {
      "text/plain": [
       "int"
      ]
     },
     "execution_count": 12,
     "metadata": {},
     "output_type": "execute_result"
    }
   ],
   "source": [
    "type(x)"
   ]
  },
  {
   "cell_type": "code",
   "execution_count": 13,
   "id": "fbf89ba9",
   "metadata": {},
   "outputs": [],
   "source": [
    "s='abc'"
   ]
  },
  {
   "cell_type": "code",
   "execution_count": 14,
   "id": "c0e387f6",
   "metadata": {},
   "outputs": [
    {
     "data": {
      "text/plain": [
       "str"
      ]
     },
     "execution_count": 14,
     "metadata": {},
     "output_type": "execute_result"
    }
   ],
   "source": [
    "type(s)"
   ]
  },
  {
   "cell_type": "code",
   "execution_count": 15,
   "id": "9cb821b5",
   "metadata": {},
   "outputs": [
    {
     "name": "stdout",
     "output_type": "stream",
     "text": [
      "<class 'str'>\n"
     ]
    }
   ],
   "source": [
    "print(type(s))"
   ]
  },
  {
   "cell_type": "code",
   "execution_count": 16,
   "id": "5cf8799e",
   "metadata": {},
   "outputs": [],
   "source": [
    "value=True"
   ]
  },
  {
   "cell_type": "code",
   "execution_count": 17,
   "id": "a0974b9d",
   "metadata": {},
   "outputs": [
    {
     "name": "stdout",
     "output_type": "stream",
     "text": [
      "True\n"
     ]
    }
   ],
   "source": [
    "print(value)"
   ]
  },
  {
   "cell_type": "code",
   "execution_count": 18,
   "id": "490acafd",
   "metadata": {},
   "outputs": [
    {
     "data": {
      "text/plain": [
       "bool"
      ]
     },
     "execution_count": 18,
     "metadata": {},
     "output_type": "execute_result"
    }
   ],
   "source": [
    "type(value)"
   ]
  },
  {
   "cell_type": "code",
   "execution_count": 19,
   "id": "873f7c0a",
   "metadata": {},
   "outputs": [
    {
     "name": "stdout",
     "output_type": "stream",
     "text": [
      "<class 'bool'>\n"
     ]
    }
   ],
   "source": [
    "print(type(value))"
   ]
  },
  {
   "cell_type": "code",
   "execution_count": 20,
   "id": "ab5a4f27",
   "metadata": {},
   "outputs": [],
   "source": [
    "percent=90.00"
   ]
  },
  {
   "cell_type": "code",
   "execution_count": 21,
   "id": "0190ae6a",
   "metadata": {},
   "outputs": [
    {
     "data": {
      "text/plain": [
       "float"
      ]
     },
     "execution_count": 21,
     "metadata": {},
     "output_type": "execute_result"
    }
   ],
   "source": [
    "type(percent)"
   ]
  },
  {
   "cell_type": "code",
   "execution_count": 24,
   "id": "08ca2b24",
   "metadata": {},
   "outputs": [
    {
     "name": "stdout",
     "output_type": "stream",
     "text": [
      "My name is Shreyansh\n",
      "I love python\n"
     ]
    }
   ],
   "source": [
    "print(\"\"\"My name is Shreyansh\n",
    "I love python\"\"\")"
   ]
  },
  {
   "cell_type": "code",
   "execution_count": null,
   "id": "04642d3b",
   "metadata": {},
   "outputs": [],
   "source": []
  }
 ],
 "metadata": {
  "kernelspec": {
   "display_name": "Python 3",
   "language": "python",
   "name": "python3"
  },
  "language_info": {
   "codemirror_mode": {
    "name": "ipython",
    "version": 3
   },
   "file_extension": ".py",
   "mimetype": "text/x-python",
   "name": "python",
   "nbconvert_exporter": "python",
   "pygments_lexer": "ipython3",
   "version": "3.8.8"
  }
 },
 "nbformat": 4,
 "nbformat_minor": 5
}
